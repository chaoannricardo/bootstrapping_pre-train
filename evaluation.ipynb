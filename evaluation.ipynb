{
 "cells": [
  {
   "cell_type": "markdown",
   "id": "ac5d2b16-a9f6-4e7b-8eea-5fd08ccb393c",
   "metadata": {},
   "source": [
    "# GBN Evaluation\n",
    "# Import packages and configurations"
   ]
  },
  {
   "cell_type": "code",
   "execution_count": 1,
   "id": "5557d4a0-150e-4e23-8a83-301c6726c9d7",
   "metadata": {},
   "outputs": [],
   "source": [
    "from core.model import GBNEncoder, LNClassifier, GBNDecoder\n",
    "from core.sim_metric import EDSim, SDPSim, CosSim\n",
    "import os\n",
    "import torch\n",
    "\n",
    "opt_encoder = {'data_dir': '../KnowledgeGraph_materials/data_kg/bootstrapnet_data/boot_pretrain_data_revised/',\n",
    "       'output_model_file': './models/test', \n",
    "       'input_model_file': './models/210914_fineTuned_encoder', \n",
    "       'sim_metric': CosSim(), 'k_hop': 2, \n",
    "       'nl_weight': 0.01, \n",
    "       'local': False, \n",
    "       'n_layer': 3, \n",
    "       'dropout': 0.1, \n",
    "       'negative_slope': 0.2, \n",
    "       'bias': False, \n",
    "       'device': torch.device(type='cuda', index=0), \n",
    "       'cpu': False, 'seed': 1, \n",
    "       'n_epoch': 100, \n",
    "       'optimizer': 'adam', \n",
    "       'lr': 0.001, \n",
    "       'decay': 0.001, \n",
    "       'max_grad_norm': 1.0, \n",
    "       'feature_type': 'random', \n",
    "       'feature_dim': 50, \n",
    "       'edge_feature_dim': 5}\n",
    "\n",
    "\n",
    "opt_decoder = {'dataset': '../KnowledgeGraph_materials/data_kg/bootstrapnet_data/boot_pretrain_data/gum_train/',\n",
    "               'input_model_file': './models/210914_fineTuned_decoder',\n",
    "               'output_model_file': '',\n",
    "               'method': 'multi_view',\n",
    "               'sim_metric': 'cos',\n",
    "               'n_iter': 20,\n",
    "               'min_match': 1,\n",
    "               'n_expansion': 10,\n",
    "               'k_hop': 2,\n",
    "               'un_weight': 0.01,\n",
    "               'local': False,\n",
    "               'mean_updated': False,\n",
    "               'n_layer': 3,\n",
    "               'dropout': 0.1,\n",
    "               'negative_slope': 0.2,\n",
    "               'bias': False,\n",
    "               'device': torch.device(type='cuda', index=0),\n",
    "               'cpu': False,\n",
    "               'seed': 1,\n",
    "               'init_encoder_epoch': 200,\n",
    "               'init_decoder_epoch': 200,\n",
    "               'encoder_epoch': 50,\n",
    "               'decoder_epoch': 50,\n",
    "               'optimizer': 'adam',\n",
    "               'lr': 0.001,\n",
    "               'decay': 0.001,\n",
    "               'max_grad_norm': 1.0,\n",
    "               'feature_type': 'glove',\n",
    "               'feature_dim': 50,\n",
    "               'edge_feature_dim': 5}\n"
   ]
  },
  {
   "cell_type": "markdown",
   "id": "39e0f73d-b9a1-44be-a460-0be7259c6b66",
   "metadata": {},
   "source": [
    "# Load encoder & decoder"
   ]
  },
  {
   "cell_type": "code",
   "execution_count": 3,
   "id": "80691320-680c-4365-bbfc-13d7d3cb2c2e",
   "metadata": {},
   "outputs": [
    {
     "data": {
      "text/plain": [
       "<All keys matched successfully>"
      ]
     },
     "execution_count": 3,
     "metadata": {},
     "output_type": "execute_result"
    }
   ],
   "source": [
    "# https://pytorch.org/tutorials/beginner/saving_loading_models.html\n",
    "\n",
    "encoder = GBNEncoder(opt_encoder)\n",
    "\n",
    "encoder.load_state_dict(torch.load(opt_encoder['input_model_file'] +'.pth'))\n",
    "\n",
    "decoder = GBNDecoder(opt_decoder, opt_decoder['sim_metric'])\n",
    "\n",
    "decoder.load_state_dict(torch.load(opt_decoder['input_model_file'] +'.pth'))\n",
    "\n",
    "# print(encoder.eval())\n",
    "# print(decoder.eval())"
   ]
  },
  {
   "cell_type": "markdown",
   "id": "4f88468a-dfec-47f3-8ca0-fe7a55d6cc9f",
   "metadata": {},
   "source": [
    "# Predict links by encoder "
   ]
  },
  {
   "cell_type": "code",
   "execution_count": null,
   "id": "487be87c-cf3d-4e3b-9912-19bf3d771b1f",
   "metadata": {},
   "outputs": [],
   "source": []
  }
 ],
 "metadata": {
  "kernelspec": {
   "display_name": "Python 3 (ipykernel)",
   "language": "python",
   "name": "python3"
  },
  "language_info": {
   "codemirror_mode": {
    "name": "ipython",
    "version": 3
   },
   "file_extension": ".py",
   "mimetype": "text/x-python",
   "name": "python",
   "nbconvert_exporter": "python",
   "pygments_lexer": "ipython3",
   "version": "3.7.0"
  }
 },
 "nbformat": 4,
 "nbformat_minor": 5
}
